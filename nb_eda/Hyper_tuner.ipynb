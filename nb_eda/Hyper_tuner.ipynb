{
 "cells": [
  {
   "cell_type": "code",
   "execution_count": 1,
   "id": "b8f307e7-6d8b-4a94-8960-17134b3494dd",
   "metadata": {},
   "outputs": [],
   "source": [
    "# Library importing\n",
    "import pandas as pd\n",
    "import numpy as np\n",
    "import seaborn as sns\n",
    "import math\n",
    "import warnings\n",
    "import os\n",
    "import logging\n",
    "from time import sleep\n",
    "import matplotlib.pyplot as plt\n",
    "from tqdm.notebook import tqdm\n",
    "from prophet import Prophet\n",
    "from prophet.diagnostics import cross_validation\n",
    "from prophet.diagnostics import performance_metrics\n",
    "import itertools\n",
    "\n",
    "logging.getLogger(\"prophet\").setLevel(logging.WARNING)\n",
    "logging.getLogger(\"cmdstanpy\").disabled=True\n",
    "warnings.filterwarnings(\"ignore\")  # Ignoring warnings to reduce text spam.\n",
    "\n",
    "# Preferences\n",
    "sns.set(rc={\"figure.figsize\": (15, 8.27)})\n",
    "pd.set_option(\"display.float_format\", \"{:,}\".format)\n",
    "pd.set_option(\"display.max_columns\", 30)\n",
    "pd.set_option(\"display.max_rows\", 100)"
   ]
  },
  {
   "cell_type": "code",
   "execution_count": 2,
   "id": "96b13836-a25d-4acc-8fc0-0b3e1eb49681",
   "metadata": {},
   "outputs": [],
   "source": [
    "# Data retrieval function\n",
    "def retrieve_data():\n",
    "    os.chdir('..')\n",
    "    cwd = os.getcwd()\n",
    "    if 'data' in os.listdir():\n",
    "        os.chdir(cwd + '\\\\data')\n",
    "        df = pd.read_csv('data.csv', sep=';', decimal=',')\n",
    "        df['ds'] = pd.to_datetime(df[['year','month']].assign(day=1))\n",
    "        df['y'] = df['quantity'].round().astype('int64')\n",
    "        df.drop(columns=['year','month','quantity'], inplace=True)\n",
    "        return df\n",
    "\n",
    "# data object\n",
    "df = retrieve_data()"
   ]
  },
  {
   "cell_type": "code",
   "execution_count": 3,
   "id": "385280e0-440e-4975-9786-964ef046f518",
   "metadata": {},
   "outputs": [],
   "source": [
    "# Parameters tuned by importance from official Prophet documentation.\n",
    "param_grid = {\n",
    "    'changepoint_prior_scale':[0.01,0.1,0.25,0.5],\n",
    "    'seasonality_prior_scale':[0.01,0.1,0.5,1.0,5.0,10.0],\n",
    "    'changepoint_range':[0.8,0.95]\n",
    "}"
   ]
  },
  {
   "cell_type": "code",
   "execution_count": null,
   "id": "578907d8-f8d6-4ef7-a34b-68e6b32cabc7",
   "metadata": {},
   "outputs": [
    {
     "data": {
      "application/vnd.jupyter.widget-view+json": {
       "model_id": "bf0943ccf0634e0cae8c1bc471e1ed64",
       "version_major": 2,
       "version_minor": 0
      },
      "text/plain": [
       "  0%|          | 0/48 [00:00<?, ?it/s]"
      ]
     },
     "metadata": {},
     "output_type": "display_data"
    }
   ],
   "source": [
    "all_params = [dict(zip(param_grid.keys(), v)) for v in itertools.product(*param_grid.values())]\n",
    "metrics = [[],[],[]]  # Store the RMSEs for each params here\n",
    "\n",
    "# Use cross validation to evaluate all parameters\n",
    "for params in tqdm(all_params):\n",
    "    m = Prophet(**params).fit(df)  # Fit model with given params\n",
    "    df_cv = cross_validation(m, initial='731 days', horizon='365 days', period='365 days', parallel = 'processes')\n",
    "    df_p = performance_metrics(df_cv,monthly=True)\n",
    "    metrics[0].append(df_p['mdape'].values[0])\n",
    "    metrics[1].append(df_p['mape'].values[0])\n",
    "    metrics[2].append(df_p['smape'].values[0])"
   ]
  },
  {
   "cell_type": "code",
   "execution_count": null,
   "id": "0ed0e8c8-e52a-4cd7-96e9-de8a169b7ffc",
   "metadata": {},
   "outputs": [],
   "source": [
    "# Find the best parameters\n",
    "tuning_results = pd.DataFrame(all_params)\n",
    "tuning_results['mdape'] = metrics[0]\n",
    "tuning_results['mape'] = metrics[1]\n",
    "tuning_results['smape'] = metrics[2]\n",
    "# Applying weights and using mape as the critical error metric.\n",
    "tuning_results['performance index'] = (tuning_results['mdape']*0.2) + (tuning_results['mape']*0.6) + (tuning_results['smape']*0.2)\n",
    "tuning_results.sort_values(by='performance index')"
   ]
  },
  {
   "cell_type": "code",
   "execution_count": null,
   "id": "2a08d4fb-d8ea-4a5a-8c1f-de3910013b86",
   "metadata": {},
   "outputs": [],
   "source": [
    "# Retrieving the best features for model building.\n",
    "best_params = all_params[np.argmin(tuning_results['performance index'])]\n",
    "print(best_params)"
   ]
  }
 ],
 "metadata": {
  "kernelspec": {
   "display_name": "Python 3 (ipykernel)",
   "language": "python",
   "name": "python3"
  },
  "language_info": {
   "codemirror_mode": {
    "name": "ipython",
    "version": 3
   },
   "file_extension": ".py",
   "mimetype": "text/x-python",
   "name": "python",
   "nbconvert_exporter": "python",
   "pygments_lexer": "ipython3",
   "version": "3.11.2"
  },
  "toc-showcode": true
 },
 "nbformat": 4,
 "nbformat_minor": 5
}
