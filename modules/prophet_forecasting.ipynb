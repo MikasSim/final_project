{
 "cells": [
  {
   "cell_type": "code",
   "execution_count": 2,
   "id": "f672654e-e449-431f-9242-08e982317f40",
   "metadata": {
    "tags": []
   },
   "outputs": [],
   "source": [
    "class forecaster():\n",
    "    def fit_predict_model(\n",
    "        dataframe,\n",
    "        interval_width = 0.8,\n",
    "        changepoint_range = 0.8,\n",
    "        changepoint_prior_scale=0.05,\n",
    "        seasonality_prior_scale=10,\n",
    "        periods=60):\n",
    "\n",
    "        m = Prophet(\n",
    "            daily_seasonality = False, \n",
    "            yearly_seasonality = True, \n",
    "            weekly_seasonality = False,\n",
    "            seasonality_mode = 'multiplicative',\n",
    "            interval_width = interval_width,\n",
    "            changepoint_range = changepoint_range,\n",
    "            changepoint_prior_scale=changepoint_prior_scale,\n",
    "            seasonality_prior_scale=seasonality_prior_scale\n",
    "        )\n",
    "\n",
    "        m = m.fit(dataframe)\n",
    "        future = m.make_future_dataframe(periods=periods, freq='MS', include_history=True)\n",
    "\n",
    "        forecast = m.predict(future)\n",
    "        forecast['fact'] = dataframe['y'].reset_index(drop = True)\n",
    "        return forecast, m\n",
    "\n",
    "    def detect_anomalies(forecast):\n",
    "        forecasted = forecast[['ds','trend', 'yhat', 'yhat_lower', 'yhat_upper', 'fact']].copy()\n",
    "        forecasted['anomaly'] = 0\n",
    "        forecasted.loc[forecasted['fact'] > forecasted['yhat_upper'], 'anomaly'] = 1\n",
    "        forecasted.loc[forecasted['fact'] < forecasted['yhat_lower'], 'anomaly'] = -1\n",
    "\n",
    "        #anomaly importances\n",
    "        forecasted['importance'] = 0\n",
    "        forecasted.loc[forecasted['anomaly'] ==1, 'importance'] = (forecasted['fact'] - forecasted['yhat_upper'])/forecast['fact']\n",
    "        forecasted.loc[forecasted['anomaly'] ==-1, 'importance'] = (forecasted['yhat_lower'] - forecasted['fact'])/forecast['fact']\n",
    "\n",
    "        return forecasted\n",
    "\n",
    "    def evaluate_model(model):\n",
    "        df_cv = cross_validation(\n",
    "        model, \n",
    "        initial='731 days', \n",
    "        horizon='365 days',\n",
    "        period='365 days',\n",
    "        parallel = 'processes')\n",
    "        df_p = performance_metrics(df_cv)\n",
    "        mape = df_p['mape'].mean()\n",
    "        rmse = df_p['rmse'].mean()\n",
    "        print(f'MAPE: {mape}\\nRMSE: {rmse}')\n",
    "        \n",
    "    def remove_anomalies(df, predictions):\n",
    "        anomaly_list = predictions[predictions['anomaly'] != 0]['ds']\n",
    "        return df[~df['ds'].isin(anomaly_list)]"
   ]
  },
  {
   "cell_type": "code",
   "execution_count": null,
   "id": "4e4f865b-f1ea-4e59-a820-c5e6eb6657ae",
   "metadata": {},
   "outputs": [],
   "source": []
  }
 ],
 "metadata": {
  "kernelspec": {
   "display_name": "Python 3 (ipykernel)",
   "language": "python",
   "name": "python3"
  },
  "language_info": {
   "codemirror_mode": {
    "name": "ipython",
    "version": 3
   },
   "file_extension": ".py",
   "mimetype": "text/x-python",
   "name": "python",
   "nbconvert_exporter": "python",
   "pygments_lexer": "ipython3",
   "version": "3.11.2"
  }
 },
 "nbformat": 4,
 "nbformat_minor": 5
}
